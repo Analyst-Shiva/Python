{
  "nbformat": 4,
  "nbformat_minor": 0,
  "metadata": {
    "colab": {
      "provenance": []
    },
    "kernelspec": {
      "name": "python3",
      "display_name": "Python 3"
    },
    "language_info": {
      "name": "python"
    }
  },
  "cells": [
    {
      "cell_type": "code",
      "source": [
        "#Descriptive statistics in Python involve using various statistical measures to summarize and describe the main features of a dataset."
      ],
      "metadata": {
        "id": "PZNM_ekKLjfg"
      },
      "execution_count": null,
      "outputs": []
    },
    {
      "cell_type": "code",
      "source": [
        "# Mean(μ)= Sum of all values to Number of values\n",
        "\n",
        "# Mediun = The median is the middle value of a dataset when it is ordered. If the dataset has an even number of values, the median is the average of the two middle values.\n",
        "\n",
        "# Mediun = arrange in ascending order and then values are ordered, if the total no of obeservations are odd then we find the median by picking the middle one.\n",
        "\n",
        "# Mediun =  if the total no of obeservations are even then the we take the mea of the middle two observations.\n",
        "\n",
        "# Sample 1\n",
        "\n",
        "78,54,5,-9,87,100\n",
        "-9,5,54,78,87,100\n",
        "\n",
        "#Mode = The mode of Set A = {2,2,2,3,4,4,5,5,5} is 2 and 5, because both 2 and 5 is repeated three times in the given set.\n",
        "\n",
        "# Important Info\n",
        "\n",
        "#Percentiles: These are quantiles that divide the data into 100 equal parts. For example, the 25th percentile represents the point below which 25% of the data falls.\n",
        "\n",
        "#Quartiles: These divide the data into four equal parts. The three quartiles are:\n",
        "\n",
        "#First Quartile (Q1): The 25th percentile.\n",
        "#Second Quartile (Q2): The 50th percentile or the median.\n",
        "#Third Quartile (Q3): The 75th percentile.\n",
        "#Deciles: These divide the data into 10 equal parts.\n",
        "\n",
        "#Quintiles: These divide the data into five equal parts.\n",
        "\n",
        "#Quantiles are valuable for analyzing the distribution of a dataset and identifying patterns or outliers. They provide a way to express the relative standing of individual data points within the entire dataset, making it easier to compare and analyze different parts of the data distribution.\n",
        "\n",
        "# Histogram\n",
        "\n",
        "# In statistics, a histogram is a graphical representation of the distribution of data. The histogram is represented by a set of rectangles, adjacent to each other, where each bar represent a kind of data.\n",
        "\n",
        "# outlier\n",
        "\n",
        "# An outlier is an observation that lies an abnormal distance from other values in a random sample from a population. In a sense, this definition leaves it up to the analyst (or a consensus process) to decide what will be considered abnormal. Before abnormal observations can be singled out, it is necessary to characterize normal observations.\n",
        "\n",
        "# weighted mean\n",
        "#Weighted Mean is an average computed by giving different weights to some of the individual values. If all the weights are equal, then the weighted mean is the same as the arithmetic mean. It represents the average of a given data. The Weighted mean is similar to the arithmetic mean or sample mean.\n",
        "\n",
        "# grouped mean\n",
        "# Grouped data means the data (or information) given in the form of class intervals such as 0-20, 20-40 and so on. Ungrouped data is defined as the data given as individual points (i.e. values or numbers) such as 15, 63, 34, 20, 25, and so on\n",
        "\n",
        "# Harmonic mean\n",
        "# What Is the Harmonic Mean? The harmonic mean is a numerical average calculated by dividing the number of observations, or entries in the series, by the reciprocal of each number in the series. Thus, the harmonic mean is the reciprocal of the arithmetic mean of the reciprocals.\n",
        "\n",
        "# median\n",
        "# Mean is the average of the given numbers and is calculated by dividing the sum of given numbers by the total number of numbers. Mean = (Sum of all the observations/Total number of observations)\n",
        "\n",
        "# Variance\n",
        "# The term variance refers to a statistical measurement of the spread between numbers in a data set. More specifically, variance measures how far each number in the set is from the mean (average), and thus from every other number in the set. Variance is often depicted by this symbol: σ2. It is used by both analysts and traders to determine volatility and market security.\n",
        "\n",
        "# The formula for variance is one for population and sample formula is listed\n",
        "\n",
        "# Sampling techniques\n",
        "# Simple random sampling. In a simple random sample, every member of the population has an equal chance of being selected. ...\n",
        "#Systematic sampling. ...\n",
        "#Stratified sampling. ...\n",
        "#Cluster sampling. ...\n",
        "#Convenience sampling. ...\n",
        "#Purposive sampling. ...\n",
        "#Snowball sampling. ...\n",
        "#Quota sampling.\n",
        "\n",
        "#Decrease of freedom\n",
        "#The degrees of freedom in a statistical calculation represent how many values involved in a calculation have the freedom to vary.\n",
        "\n",
        "#Skewness\n",
        "#Skewness is a measurement of the distortion of symmetrical distribution or asymmetry in a data set. Skewness is demonstrated on a bell curve when data points are not distributed symmetrically to the left and right sides of the median on a bell curve. If the bell curve is shifted to the left or the right, it is said to be skewed.\n",
        "\n",
        "# Population variance and sample variance\n",
        "# When we calculate population variance, we divide by N (the population size). When we calculate sample variance, we divide by n-1 (the sample size – 1). When calculating the sample variance, we apply something known as Bessel's correction – which is the act of dividing by n-1.\n",
        "\n",
        "# Absolute - the value an the sign willbe discarded\n",
        "# Absolute frequency is a statistical term describing the number of times a particular piece of data or a particular value appears during a trial or set of trials. Essentially, absolute frequency is a simple count of the number of times a value is observed.\n",
        "\n",
        "# Mean absolute deviation\n",
        "# The mean absolute deviation of a dataset is the average distance between each data point and the mean. It gives us an idea about the variability in a dataset.\n",
        "#Here's how to calculate the mean absolute deviation.\n",
        "#Step 1: Calculate the mean.\n",
        "#Step 2: Calculate how far away each data point is from the mean using positive distances. These are called absolute deviations.\n",
        "#Step 3: Add those deviations together.\n",
        "#Step 4: Divide the sum by the number of data points.\n",
        "\n",
        "# Positive squareroot of variance\n",
        "# A square root of a number b is a solution of the equation x2=b . Every number except 0 has two square roots, a positive and a negative. The positive square root is the principal square root and is written √b . To denote the negative root, write −√b and to indicate both roots write ±√b .\n",
        "\n",
        "# standard deviation\n",
        "# Variance and Standard deviation are the two important topics in Statistics. It is the measure of the dispersion of statistical data. Dispersion is the extent to which values in a distribution differ from the average of the distribution. To quantify the extent of the variation, there are certain measures namely:\n",
        "\n",
        "#(i) Range\n",
        "\n",
        "#(ii) Quartile Deviation\n",
        "\n",
        "#(iii) Mean Deviation\n",
        "\n",
        "#(iv) Standard Deviation\n",
        "\n",
        "# Measures of dipersion\n",
        "# Two data sets can have the same mean but they can be entirely different. Thus to describe data, one needs to know the extent of variability. This is given by the measures of dispersion. Range, interquartile range, and standard deviation are the three commonly used measures of dispersion.\n",
        "\n",
        "# Centeral tendency\n",
        "#The central tendency is stated as the statistical measure that represents the single value of the entire distribution or a dataset. It aims to provide an accurate description of the entire data in the distribution.\n",
        "\n",
        "\n",
        "# Measures of coefficient\n",
        "# What is cofeecient\n",
        "#A coefficient is an integer that is written along with a variable or it is multiplied by the variable. In other words, a coefficient is the numerical factor of a term containing constant and variables. For example, in the term 2x, 2 is the coefficient.\n",
        "\n",
        "#Measures of coefficient\n",
        "#The correlation coefficient is measured on a scale that varies from + 1 through 0 to – 1. Complete correlation between two variables is expressed by either + 1 or -1. When one variable increases as the other increases the correlation is positive; when one decreases as the other increases it is negative.\n",
        "\n",
        "\n",
        "\n"
      ],
      "metadata": {
        "colab": {
          "base_uri": "https://localhost:8080/"
        },
        "id": "pu19GOYwNyj5",
        "outputId": "79c533eb-3cd4-462b-ab2b-99fb1e71c370"
      },
      "execution_count": 6,
      "outputs": [
        {
          "output_type": "execute_result",
          "data": {
            "text/plain": [
              "(-9, 5, 54, 78, 87, 100)"
            ]
          },
          "metadata": {},
          "execution_count": 6
        }
      ]
    },
    {
      "cell_type": "code",
      "source": [
        "\n"
      ],
      "metadata": {
        "id": "dA_3xQcAdZay"
      },
      "execution_count": null,
      "outputs": []
    }
  ]
}